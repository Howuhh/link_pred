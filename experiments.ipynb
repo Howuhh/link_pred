{
 "cells": [
  {
   "cell_type": "code",
   "execution_count": null,
   "metadata": {},
   "outputs": [],
   "source": [
    "%load_ext autoreload\n",
    "%autoreload 2"
   ]
  },
  {
   "cell_type": "code",
   "execution_count": null,
   "metadata": {},
   "outputs": [],
   "source": [
    "import sys\n",
    "sys.path.append(\"/usr/local/lib/python3.7/site-packages\")\n",
    "import graph_tool as gt\n",
    "import graph_tool.all as gtl"
   ]
  },
  {
   "cell_type": "code",
   "execution_count": null,
   "metadata": {},
   "outputs": [],
   "source": [
    "from IPython.display import set_matplotlib_formats\n",
    "set_matplotlib_formats('retina')"
   ]
  },
  {
   "cell_type": "code",
   "execution_count": null,
   "metadata": {},
   "outputs": [],
   "source": [
    "import gc\n",
    "\n",
    "import numpy as np\n",
    "from tqdm import tqdm\n",
    "\n",
    "\n",
    "from linkpred.utils import neighbors, graph_neighbors\n",
    "from linkpred.metrics import (adamic_adar_score, common_neighbors_score,\n",
    "                             res_allocation)\n",
    "from linkpred.metrics import compute_metrics, feature_vector\n",
    "\n",
    "from linkpred.metrics import get_node_features"
   ]
  },
  {
   "cell_type": "code",
   "execution_count": null,
   "metadata": {},
   "outputs": [],
   "source": [
    "test_list = np.loadtxt(\"data/facebook_combined.txt\", delimiter=\" \")\n",
    "gt_fc = gt.Graph()\n",
    "gt_fc.add_edge_list(test_list)"
   ]
  },
  {
   "cell_type": "code",
   "execution_count": null,
   "metadata": {},
   "outputs": [],
   "source": [
    "def graph_edges_split(G, p):\n",
    "    N = G.num_edges()\n",
    "    K = np.int(N * p)\n",
    "    \n",
    "    train_mask = np.array([0] * K + [1] * (N-K), dtype=np.bool)\n",
    "    np.random.shuffle(train_mask)\n",
    "    test_mask = ~train_mask\n",
    "    \n",
    "    train_graph = gt.GraphView(G, directed=False)\n",
    "    test_graph = gt.GraphView(G, directed=False)\n",
    "    \n",
    "    prop_train = train_graph.new_edge_property(\"bool\")\n",
    "    prop_train.a = train_mask\n",
    "    \n",
    "    prop_test = test_graph.new_edge_property(\"bool\")\n",
    "    prop_test.a = test_mask\n",
    "    \n",
    "    train_graph.set_edge_filter(prop_train)\n",
    "    test_graph.set_edge_filter(prop_test)\n",
    "    \n",
    "    return train_graph, test_graph\n",
    "\n",
    "\n",
    "def extract_features(G, metrics, file, p=0.1, k_neighbors=2):\n",
    "    train_graph, test_graph = graph_edges_split(G, p=p)\n",
    "    nodes_info = graph_neighbors(train_graph, k_neighbors=k_neighbors)\n",
    "\n",
    "    with open(file, \"w\") as df:\n",
    "        for i, node in tqdm(enumerate(train_graph.get_vertices())):\n",
    "            scores = get_node_features(train_graph, nodes_info, metrics, node)\n",
    "            \n",
    "            for row in scores:\n",
    "                row_str = feature_vector(test_graph, row)\n",
    "                df.write(row_str + \"\\n\")\n",
    "    print(\"DONE\")"
   ]
  },
  {
   "cell_type": "code",
   "execution_count": null,
   "metadata": {},
   "outputs": [],
   "source": [
    "metrics = [\n",
    "    common_neighbors_score,\n",
    "    adamic_adar_score, \n",
    "]"
   ]
  },
  {
   "cell_type": "code",
   "execution_count": null,
   "metadata": {
    "scrolled": false
   },
   "outputs": [],
   "source": [
    "extract_features(gt_fc, metrics, \"data/fc_features.csv\")"
   ]
  },
  {
   "cell_type": "code",
   "execution_count": null,
   "metadata": {},
   "outputs": [],
   "source": [
    "metrics_first = [\n",
    "    common_neighbors_score, \n",
    "    adamic_adar_score,\n",
    "    res_allocation,\n",
    "]"
   ]
  },
  {
   "cell_type": "code",
   "execution_count": null,
   "metadata": {
    "scrolled": true
   },
   "outputs": [],
   "source": [
    "extract_features(gt_fc, metrics_first, \"data/fc_features_first.csv\", k_neighbors=1)"
   ]
  }
 ],
 "metadata": {
  "kernelspec": {
   "display_name": "Python 3",
   "language": "python",
   "name": "python3"
  },
  "language_info": {
   "codemirror_mode": {
    "name": "ipython",
    "version": 3
   },
   "file_extension": ".py",
   "mimetype": "text/x-python",
   "name": "python",
   "nbconvert_exporter": "python",
   "pygments_lexer": "ipython3",
   "version": "3.7.0"
  }
 },
 "nbformat": 4,
 "nbformat_minor": 2
}
